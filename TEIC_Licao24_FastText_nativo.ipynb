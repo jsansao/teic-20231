{
  "cells": [
    {
      "cell_type": "markdown",
      "metadata": {
        "id": "view-in-github",
        "colab_type": "text"
      },
      "source": [
        "<a href=\"https://colab.research.google.com/github/jsansao/teic-20231/blob/main/TEIC_Licao24_FastText_nativo.ipynb\" target=\"_parent\"><img src=\"https://colab.research.google.com/assets/colab-badge.svg\" alt=\"Open In Colab\"/></a>"
      ]
    },
    {
      "cell_type": "markdown",
      "metadata": {
        "id": "P8TDoOfUhozm"
      },
      "source": [
        "# Abordagem 2: Classificação com o FastText Nativo\n",
        "\n",
        "Esta é a segunda forma de usar o FastText: como um classificador *completo* e autônomo. Esta abordagem **não usa Keras nem LSTM**.\n",
        "\n",
        "O FastText (biblioteca `fasttext`) é otimizado para ser extremamente rápido e eficiente, muitas vezes superando LSTMs complexas em tarefas de classificação simples, com um tempo de treino ordens de magnitude menor.\n",
        "\n",
        "**Fluxo:**\n",
        "1. Instalar `fasttext`.\n",
        "2. Carregar os dados (vamos usar o mesmo dataset).\n",
        "3. Formatar os dados no formato de arquivo esperado pelo FastText.\n",
        "4. Treinar o classificador (geralmente uma única linha de comando).\n",
        "5. Avaliar o classificador."
      ]
    },
    {
      "cell_type": "code",
      "execution_count": 14,
      "metadata": {
        "colab": {
          "base_uri": "https://localhost:8080/"
        },
        "id": "0OzNLEqYhozy",
        "outputId": "e17e1f88-2bb1-4bee-94c5-fad69315223c"
      },
      "outputs": [
        {
          "output_type": "stream",
          "name": "stdout",
          "text": [
            "Requirement already satisfied: fasttext in /usr/local/lib/python3.12/dist-packages (0.9.3)\n",
            "Requirement already satisfied: pybind11>=2.2 in /usr/local/lib/python3.12/dist-packages (from fasttext) (3.0.1)\n",
            "Requirement already satisfied: setuptools>=0.7.0 in /usr/local/lib/python3.12/dist-packages (from fasttext) (75.2.0)\n",
            "Requirement already satisfied: numpy in /usr/local/lib/python3.12/dist-packages (from fasttext) (2.0.2)\n"
          ]
        }
      ],
      "source": [
        "# Célula 1: Instalação e Importações\n",
        "\n",
        "# Instala a biblioteca oficial do Facebook\n",
        "!pip install fasttext\n",
        "\n",
        "import fasttext\n",
        "from sklearn.datasets import fetch_20newsgroups\n",
        "from sklearn.model_selection import train_test_split\n",
        "import re\n",
        "import os"
      ]
    },
    {
      "cell_type": "markdown",
      "metadata": {
        "id": "dtWERTS_hoz3"
      },
      "source": [
        "## Passo 1: Carregar Dados\n",
        "\n",
        "Carregamos os mesmos dados de treino e teste."
      ]
    },
    {
      "cell_type": "code",
      "execution_count": 15,
      "metadata": {
        "colab": {
          "base_uri": "https://localhost:8080/"
        },
        "id": "7p6DLWvZhoz5",
        "outputId": "6de29a7a-a0ef-4106-a7fa-9d912c9ec940"
      },
      "outputs": [
        {
          "output_type": "stream",
          "name": "stdout",
          "text": [
            "Amostras de treino: 1571\n",
            "Amostras de teste: 393\n"
          ]
        }
      ],
      "source": [
        "# Célula 2: Carregar os dados\n",
        "categorias = ['comp.graphics', 'sci.crypt']\n",
        "dados = fetch_20newsgroups(subset='all', categories=categorias, shuffle=True, random_state=42, remove=('headers', 'footers', 'quotes'))\n",
        "X_train_text, X_test_text, y_train, y_test = train_test_split(dados.data, dados.target, test_size=0.2, random_state=42)\n",
        "\n",
        "print(f\"Amostras de treino: {len(X_train_text)}\")\n",
        "print(f\"Amostras de teste: {len(X_test_text)}\")"
      ]
    },
    {
      "cell_type": "markdown",
      "metadata": {
        "id": "fgqmHow7hoz7"
      },
      "source": [
        "## Passo 2: Formatar Dados para o FastText\n",
        "\n",
        "O FastText espera um arquivo de texto simples onde cada linha é um documento, formatado como:\n",
        "\n",
        "`__label__<ROTULO> <texto do documento pré-processado>`\n",
        "\n",
        "Vamos criar `train.txt` e `test.txt` nesse formato."
      ]
    },
    {
      "cell_type": "code",
      "execution_count": 16,
      "metadata": {
        "colab": {
          "base_uri": "https://localhost:8080/"
        },
        "id": "ySWVdlUFhoz-",
        "outputId": "1deaf617-566f-41b9-b173-b12a80b6fabe"
      },
      "outputs": [
        {
          "output_type": "stream",
          "name": "stdout",
          "text": [
            "Arquivos fasttext_train.txt e fasttext_test.txt criados.\n",
            "__label__0 hello there a week ago a guy asked what a sco file was well i researched a bit and foundout that it is just another rix file sci files are 320x200 files and sco files are 1024x768 files alle the other formats 800x600 640x480 are also called something like sc character\n",
            "__label__0 it should have been made fairly clear that the most crimson would ever get was a 150 75 old style mhz cpu upgrade certainly this was mentioned on comp sys sgi on more than one occasion as being likely if our sales folks were saying otherwise they were either confused or less than honest ethical or somebody further up the chain inside sgi was misleading them there were 4 versions 20 25 30 35 although admittedly the 30 came out at the same time as the 35 over a period of 2 1 2 years the chassis simply couldn t be pushed any further i d say 4 years was a pretty good lifespan myself for a system design in this day and age getting the 35 to work caused a lot of gray hairs in both the hardware and product design groups we would have been out of our minds to push it further and i know that was made clear almost from the day the 35 started shipping we had one last kicker in the form of the elan graphics which made 3 graphics versions over its lifespan which i also think is pretty good please by all means send a complaint letter through sgi support or sales on your concerns there should be no reason for sales folks to misrepresent future upgrades to customers sure sometimes there will be confusion for a while over whether an upgrade will be available but that shouldn t last too long and doesn t seem to be what you are referring to yes the sales folks do get bonus s at the end of some all quarters but that is pretty common industry wide and sometimes that can result in good deals for customers sometimes it probably pushes folks into systems that aren t what they need i m sure but nobody is forcing you to buy at end of quarter after all they don t get all that long a lead time either although certainly they get presentations on possible new products and their opinions may well influence the end product but that also is life in the industry we can t design systems that meet just their needs or we won t sell too many systems after all which is not to say that we don t have some niche products like reality engine but surely you don t expect a system you buy now for a five year period to be constantly upgradable over that entire five year period that s a rather unreasonable expectation in my experience with workstations microcomputers supported and parts available yes but certainly not upgradable to the latest and greatest i missed your first posting but as i say by all means share your frustation with somebody at a level inside sgi where it might have an effect not immediate i m sure but complaints aren t going to be ignored and may affect future plans if we hear similar things from more than one person site all of the above is as usual my personal opinion not sgi s\n",
            "__label__0 a very kind soul has mailed me this reply for the bugs in cview since he isn t in the position to post this himself he asked me to post it for him but to leave his name out so here it comes cview has quite a number of bugs the one you mention is perhaps the most annoying but not the most dangerous as far as i can determine it has to do with the temp files that cview creates cview gives the user no control over where it places its temp files it just places them in its current directory the problem you mention occurs as far as i can tell when it runs out of disk space for its temp files it seems as if cview doesn t check properly for this situation as cview decodes a jpeg it seems to write out a temp file with all the pixel data with 24 bit colour information then for 8 bit displays it does the dithering again writing another file with the 8 bit colour information while it is writing this second file it also writes the data to your colour card then when it does the last chunk of 8 bit data it recopies all the data from the 8 bit file to your screen again it does this last recopy operation for its fit to screen feature even when this feature is not enabled the result of this process is the following 1 if it runs out of disk space when writing the first 24 bit file all you ever see is as much data as it has room for and the last bit of data is simply repeated over and over again because cview never realizes the disk has filled up and disk writes reads aren t performed 2 if it has enough room for the 24 bit data but runs out of room for the 8 bit data you see almost all of the picture as it does the dithering and writes to the screen card however then when it finishes the dithering and recopies the data from the 8 bit file to screen for whatever reason it does this one again just gets a repetition of the last chunk of data for which there was room on the disk this is just a guess but probably fairly accurate at least the general idea is on track i think although i have probably made errors in details about file i o etc the way around this is of course to clear up sufficient disk space the temp files for large jpeg s 1200x900 and bigger can be very large 3 meg 1 meg on some of the largest i have needed in excess of 6 meg free disk space cview has a much more serious bug if you are trying to display a file from a floppy and you change floppies while cview has some temp file open on the floppy then cview in certain circumstances will write the directory and fat table i can t remember for the removed floppy onto the newly inserted floppy thus corruptimg the new floppy in a very serious possibly unrevcoverable way so be careful it is incredibly poor programming for a program to do this on the other hand when choosing files in the open files menu cview insists on doing a few disk reads every time one moves the hi lighter square incredibly annoying when it could do them all at once when it gets the directory info and really how much effort does it take to sort a directory listing\n"
          ]
        }
      ],
      "source": [
        "# Célula 3: Pré-processamento e formatação\n",
        "\n",
        "def preprocess_text_fasttext(text):\n",
        "    text = text.lower()\n",
        "    text = re.sub(r'\\W+', ' ', text) # Remove não-alfanuméricos\n",
        "    text = re.sub(r'\\s+', ' ', text) # Remove espaços extras\n",
        "    return text.strip()\n",
        "\n",
        "def criar_arquivo_fasttext(filename, textos, rotulos):\n",
        "    with open(filename, 'w', encoding='utf-8') as f:\n",
        "        for texto, rotulo in zip(textos, rotulos):\n",
        "            texto_limpo = preprocess_text_fasttext(texto)\n",
        "            if texto_limpo:\n",
        "                # O formato é __label__<numero> texto...\n",
        "                f.write(f\"__label__{rotulo} {texto_limpo}\\n\")\n",
        "\n",
        "# Criar os arquivos de treino e teste\n",
        "criar_arquivo_fasttext('fasttext_train.txt', X_train_text, y_train)\n",
        "criar_arquivo_fasttext('fasttext_test.txt', X_test_text, y_test)\n",
        "\n",
        "print(\"Arquivos fasttext_train.txt e fasttext_test.txt criados.\")\n",
        "\n",
        "# Vamos ver as primeiras linhas do arquivo de treino\n",
        "!head -n 3 fasttext_train.txt"
      ]
    },
    {
      "cell_type": "markdown",
      "metadata": {
        "id": "QR0_J7qmho0C"
      },
      "source": [
        "## Passo 3: Treinar o Classificador Nativo\n",
        "\n",
        "Este é o passo mágico. O treino é feito com uma única função `train_supervised`."
      ]
    },
    {
      "cell_type": "code",
      "execution_count": 17,
      "metadata": {
        "colab": {
          "base_uri": "https://localhost:8080/"
        },
        "id": "JcxVkvj2ho0E",
        "outputId": "b92d781d-d44c-4cea-c8d3-bf207e3bed82"
      },
      "outputs": [
        {
          "output_type": "stream",
          "name": "stdout",
          "text": [
            "Treinando o classificador nativo FastText...\n",
            "Treinamento concluído.\n"
          ]
        }
      ],
      "source": [
        "# Célula 4: Treinamento\n",
        "\n",
        "print(\"Treinando o classificador nativo FastText...\")\n",
        "\n",
        "# Treina o modelo\n",
        "# 'wordNgrams=2' informa ao FastText para usar bigramas, o que ajuda muito na classificação\n",
        "# 'epoch=25' e 'lr=1.0' são hiperparâmetros comuns e muito bons\n",
        "modelo_nativo = fasttext.train_supervised(\n",
        "    input='fasttext_train.txt',\n",
        "    epoch=25,\n",
        "    lr=1.0,\n",
        "    wordNgrams=2,\n",
        "    loss='softmax'\n",
        ")\n",
        "\n",
        "print(\"Treinamento concluído.\")\n",
        "\n",
        "# Salvar o modelo (opcional)\n",
        "modelo_nativo.save_model(\"modelo_fasttext_classificador.bin\")"
      ]
    },
    {
      "cell_type": "markdown",
      "metadata": {
        "id": "4j86H6Uuho0G"
      },
      "source": [
        "## Passo 4: Avaliar e Testar o Modelo"
      ]
    },
    {
      "cell_type": "code",
      "execution_count": 18,
      "metadata": {
        "colab": {
          "base_uri": "https://localhost:8080/"
        },
        "id": "c02SWn5oho0M",
        "outputId": "4d1316b0-4f15-44a0-ba8b-16c8b6057b00"
      },
      "outputs": [
        {
          "output_type": "stream",
          "name": "stdout",
          "text": [
            "Amostras de teste: 380\n",
            "Acurácia (FastText Nativo): 0.9000\n",
            "Recall (FastText Nativo): 0.9000\n"
          ]
        }
      ],
      "source": [
        "# Célula 5: Avaliação\n",
        "\n",
        "# A função .test() retorna (N_amostras, precisão, recall)\n",
        "# No fasttext, 'precisão' neste contexto é a acurácia (P@1)\n",
        "resultado = modelo_nativo.test('fasttext_test.txt')\n",
        "\n",
        "n_amostras = resultado[0]\n",
        "acuracia = resultado[1] # P@1 é a acurácia\n",
        "recall = resultado[2]   # R@1 é o recall\n",
        "\n",
        "print(f\"Amostras de teste: {n_amostras}\")\n",
        "print(f\"Acurácia (FastText Nativo): {acuracia:.4f}\")\n",
        "print(f\"Recall (FastText Nativo): {recall:.4f}\")"
      ]
    },
    {
      "cell_type": "markdown",
      "metadata": {
        "id": "POzBDk_gho0S"
      },
      "source": [
        "## Conclusão\n",
        "\n",
        "Você provavelmente notará que a Abordagem 2 (Nativa) não só treinou em **segundos**, como também atingiu uma acurácia extremamente alta, muitas vezes comparável ou superior à da LSTM, com muito menos complexidade.\n",
        "\n",
        "Para problemas de classificação de texto, o classificador nativo do FastText é uma *baseline* (ponto de partida) incrivelmente forte."
      ]
    }
  ],
  "metadata": {
    "kernelspec": {
      "display_name": "Python 3",
      "language": "python",
      "name": "python3"
    },
    "language_info": {
      "codemirror_mode": {
        "name": "ipython",
        "version": 3
      },
      "file_extension": ".py",
      "mimetype": "text/x-python",
      "name": "python",
      "nbconvert_exporter": "python",
      "pygments_lexer": "ipython3",
      "version": "3.10.0"
    },
    "colab": {
      "provenance": [],
      "include_colab_link": true
    }
  },
  "nbformat": 4,
  "nbformat_minor": 0
}