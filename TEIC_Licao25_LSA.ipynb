{
  "cells": [
    {
      "cell_type": "markdown",
      "metadata": {
        "id": "view-in-github",
        "colab_type": "text"
      },
      "source": [
        "<a href=\"https://colab.research.google.com/github/jsansao/teic-20231/blob/main/TEIC_Licao25_LSA.ipynb\" target=\"_parent\"><img src=\"https://colab.research.google.com/assets/colab-badge.svg\" alt=\"Open In Colab\"/></a>"
      ]
    },
    {
      "cell_type": "markdown",
      "metadata": {
        "id": "_D7U7BYLnAPs"
      },
      "source": [
        "# Classificação de Texto com LSA (Latent Semantic Analysis)\n",
        "\n",
        "Este notebook demonstra como usar a **Análise Semântica Latente (LSA)** para resolver o mesmo problema de classificação de texto (computação gráfica vs. criptografia).\n",
        "\n",
        "LSA não é um classificador. É uma técnica de **redução de dimensionalidade** e **extração de características**.\n",
        "\n",
        "O fluxo de trabalho será:\n",
        "1.  **Texto Bruto** -> Aplicar `TfidfVectorizer`\n",
        "2.  **Matriz TF-IDF** (Alta dimensão, Esparsa) -> Aplicar `TruncatedSVD` (o motor do LSA)\n",
        "3.  **Matriz LSA** (Baixa dimensão, Densa) -> Alimentar um `LogisticRegression`\n",
        "4.  Avaliar o classificador."
      ]
    },
    {
      "cell_type": "code",
      "execution_count": 1,
      "metadata": {
        "id": "ddCZdrm8nAP4"
      },
      "outputs": [],
      "source": [
        "# Célula 1: Importações\n",
        "\n",
        "import numpy as np\n",
        "from sklearn.datasets import fetch_20newsgroups\n",
        "from sklearn.model_selection import train_test_split\n",
        "from sklearn.feature_extraction.text import TfidfVectorizer\n",
        "from sklearn.decomposition import TruncatedSVD # Esta é a implementação do LSA\n",
        "from sklearn.linear_model import LogisticRegression\n",
        "from sklearn.metrics import accuracy_score\n",
        "from sklearn.pipeline import Pipeline # Usaremos um Pipeline para simplificar!"
      ]
    },
    {
      "cell_type": "markdown",
      "metadata": {
        "id": "m_VniRDJnAQB"
      },
      "source": [
        "## Passo 1: Carregar os Dados\n",
        "\n",
        "Carregamos os mesmos dados de treino e teste."
      ]
    },
    {
      "cell_type": "code",
      "execution_count": 2,
      "metadata": {
        "colab": {
          "base_uri": "https://localhost:8080/"
        },
        "id": "vgcH9j1fnAQF",
        "outputId": "91f566f6-0879-4ced-9ecc-c8df0e8c8369"
      },
      "outputs": [
        {
          "output_type": "stream",
          "name": "stdout",
          "text": [
            "Amostras de treino: 1571\n",
            "Amostras de teste: 393\n"
          ]
        }
      ],
      "source": [
        "# Célula 2: Carregar os dados\n",
        "categorias = ['comp.graphics', 'sci.crypt']\n",
        "dados = fetch_20newsgroups(subset='all', categories=categorias, shuffle=True, random_state=42, remove=('headers', 'footers', 'quotes'))\n",
        "X_train_text, X_test_text, y_train, y_test = train_test_split(dados.data, dados.target, test_size=0.2, random_state=42)\n",
        "\n",
        "print(f\"Amostras de treino: {len(X_train_text)}\")\n",
        "print(f\"Amostras de teste: {len(X_test_text)}\")"
      ]
    },
    {
      "cell_type": "markdown",
      "metadata": {
        "id": "crmBEJJ9nAQL"
      },
      "source": [
        "## Passo 2: Criar o Pipeline (TF-IDF -> LSA -> Classificador)\n",
        "\n",
        "Usar um `Pipeline` do Scikit-learn é a forma mais limpa e correta de encadear estas três etapas. O Pipeline garante que o `TfidfVectorizer` e o `TruncatedSVD` sejam ajustados (fitted) *apenas* nos dados de treino, e depois usados para transformar (transform) os dados de teste, evitando vazamento de dados (data leakage)."
      ]
    },
    {
      "cell_type": "code",
      "execution_count": 3,
      "metadata": {
        "id": "k6h3dcCfnAQO"
      },
      "outputs": [],
      "source": [
        "# Célula 3: Definindo os componentes do Pipeline\n",
        "\n",
        "# 1. O Vetorizador TF-IDF\n",
        "# Usaremos 5000 features, como nos exemplos anteriores\n",
        "tfidf = TfidfVectorizer(max_features=5000, stop_words='english')\n",
        "\n",
        "# 2. O LSA (TruncatedSVD)\n",
        "# Vamos reduzir as 5000 dimensões do TF-IDF para 100 \"tópicos\" latentes.\n",
        "N_COMPONENTES_LSA = 100\n",
        "lsa = TruncatedSVD(n_components=N_COMPONENTES_LSA, random_state=42)\n",
        "\n",
        "# 3. O Classificador\n",
        "# Regressão Logística funciona muito bem com a saída densa do LSA\n",
        "clf = LogisticRegression(random_state=42)\n",
        "\n",
        "# Criar o Pipeline que executa os passos em sequência\n",
        "pipeline_lsa = Pipeline([\n",
        "    ('tfidf', tfidf), # Passo 1: Calcula TF-IDF\n",
        "    ('lsa', lsa),   # Passo 2: Reduz dimensionalidade com LSA\n",
        "    ('clf', clf)    # Passo 3: Classifica usando as features do LSA\n",
        "])"
      ]
    },
    {
      "cell_type": "markdown",
      "metadata": {
        "id": "SBRjus5wnAQU"
      },
      "source": [
        "## Passo 3: Treinar e Avaliar o Modelo"
      ]
    },
    {
      "cell_type": "code",
      "execution_count": 4,
      "metadata": {
        "colab": {
          "base_uri": "https://localhost:8080/"
        },
        "id": "yTm-y9L3nAQY",
        "outputId": "7db90659-be10-4d0b-e6d3-f511172277f3"
      },
      "outputs": [
        {
          "output_type": "stream",
          "name": "stdout",
          "text": [
            "Treinando o pipeline (TF-IDF -> LSA -> Regressão Logística)...\n",
            "Treinamento concluído.\n"
          ]
        }
      ],
      "source": [
        "# Célula 4: Treinar o Pipeline\n",
        "print(\"Treinando o pipeline (TF-IDF -> LSA -> Regressão Logística)...\")\n",
        "\n",
        "# O .fit() treina todos os passos em sequência nos dados de treino\n",
        "pipeline_lsa.fit(X_train_text, y_train)\n",
        "\n",
        "print(\"Treinamento concluído.\")"
      ]
    },
    {
      "cell_type": "code",
      "execution_count": 5,
      "metadata": {
        "colab": {
          "base_uri": "https://localhost:8080/"
        },
        "id": "TU7XrVAenAQf",
        "outputId": "3dbcbaa5-cde4-43b2-f4cb-51db7d5a7d7c"
      },
      "outputs": [
        {
          "output_type": "stream",
          "name": "stdout",
          "text": [
            "Acurácia (TF-IDF + LSA(100) + LogReg): 0.9059\n"
          ]
        }
      ],
      "source": [
        "# Célula 5: Avaliar o Pipeline\n",
        "\n",
        "# O .predict() aplica o TF-IDF, o LSA e o Classificador nos dados de teste\n",
        "y_pred = pipeline_lsa.predict(X_test_text)\n",
        "\n",
        "acuracia_lsa = accuracy_score(y_test, y_pred)\n",
        "\n",
        "print(f\"Acurácia (TF-IDF + LSA(100) + LogReg): {acuracia_lsa:.4f}\")"
      ]
    },
    {
      "cell_type": "markdown",
      "metadata": {
        "id": "gm6ma_yKnAQn"
      },
      "source": [
        "## (Opcional) O que o LSA aprendeu?\n",
        "\n",
        "Podemos inspecionar os \"tópicos\" (componentes) que o LSA aprendeu, olhando quais palavras do TF-IDF têm mais peso em cada tópico."
      ]
    },
    {
      "cell_type": "code",
      "execution_count": 6,
      "metadata": {
        "colab": {
          "base_uri": "https://localhost:8080/"
        },
        "id": "1bzbIhH-nAQp",
        "outputId": "2e7f3f48-82ad-42e7-f95f-78d1b47db7c5"
      },
      "outputs": [
        {
          "output_type": "stream",
          "name": "stdout",
          "text": [
            "Formato dos componentes do LSA (tópicos, features): (100, 5000)\n",
            "\n",
            "\n",
            "--- Tópicos Latentes encontrados pelo LSA ---\n",
            "Tópico 0: key, chip, encryption, clipper, government, use, know, like, don, people\n",
            "Tópico 1: key, chip, clipper, government, encryption, keys, escrow, law, nsa, phone\n",
            "Tópico 2: key, bit, s1, keys, serial, bits, number, s2, 80, block\n",
            "Tópico 3: image, file, jpeg, files, format, gif, government, images, 24, color\n",
            "Tópico 4: thanks, does, know, advance, anybody, format, looking, files, hi, windows\n"
          ]
        }
      ],
      "source": [
        "# Célula 6: Inspecionando os tópicos do LSA\n",
        "\n",
        "# Pegar os nomes das features (palavras) do passo 'tfidf'\n",
        "termos_tfidf = pipeline_lsa.named_steps['tfidf'].get_feature_names_out()\n",
        "\n",
        "# Pegar os componentes (tópicos) do passo 'lsa'\n",
        "componentes_lsa = pipeline_lsa.named_steps['lsa'].components_\n",
        "\n",
        "print(f\"Formato dos componentes do LSA (tópicos, features): {componentes_lsa.shape}\\n\")\n",
        "\n",
        "def exibir_topicos(model_components, feature_names, n_top_words=10):\n",
        "    print(\"\\n--- Tópicos Latentes encontrados pelo LSA ---\")\n",
        "    for i, topico in enumerate(model_components[:5]): # Exibir os 5 primeiros tópicos\n",
        "        # Pega os índices das palavras com maior peso (positivo e negativo)\n",
        "        indices_top_positivos = topico.argsort()[::-1][:n_top_words]\n",
        "        palavras_top_positivas = [feature_names[i] for i in indices_top_positivos]\n",
        "\n",
        "        print(f\"Tópico {i}: {', '.join(palavras_top_positivas)}\")\n",
        "\n",
        "exibir_topicos(componentes_lsa, termos_tfidf)"
      ]
    },
    {
      "cell_type": "markdown",
      "metadata": {
        "id": "FgSpsVTUnAQs"
      },
      "source": [
        "## Conclusão\n",
        "\n",
        "Como você pode ver nos resultados da Célula 6, o LSA consegue agrupar palavras semanticamente relacionadas. Por exemplo, um tópico provavelmente conterá (\"key\", \"encryption\", \"clipper\", \"chip\", \"security\") e outro conterá (\"graphics\", \"image\", \"3d\", \"polygon\", \"computer\").\n",
        "\n",
        "O classificador de Regressão Logística então aprende a tomar decisões com base nesses \"conceitos\" (Tópico 0, Tópico 1, etc.) em vez de em palavras individuais.\n",
        "\n",
        "Essa abordagem (TF-IDF + LSA) foi o estado da arte por muitos anos antes da ascensão das Word Embeddings (Word2Vec, GloVe, FastText) e dos Transformers (BERT)."
      ]
    }
  ],
  "metadata": {
    "kernelspec": {
      "display_name": "Python 3",
      "language": "python",
      "name": "python3"
    },
    "language_info": {
      "codemirror_mode": {
        "name": "ipython",
        "version": 3
      },
      "file_extension": ".py",
      "mimetype": "text/x-python",
      "name": "python",
      "nbconvert_exporter": "python",
      "pygments_lexer": "ipython3",
      "version": "3.10.0"
    },
    "colab": {
      "provenance": [],
      "include_colab_link": true
    }
  },
  "nbformat": 4,
  "nbformat_minor": 0
}